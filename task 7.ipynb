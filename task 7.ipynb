{
 "cells": [
  {
   "cell_type": "markdown",
   "id": "441edfab",
   "metadata": {},
   "source": [
    "1. Find the total sales by each payment method"
   ]
  },
  {
   "cell_type": "code",
   "execution_count": null,
   "id": "e1186d02",
   "metadata": {},
   "outputs": [],
   "source": [
    "SELECT Payment, \n",
    "       ROUND(SUM(Sales), 2) AS Total_Sales\n",
    "FROM SuperMarket\n",
    "GROUP BY Payment\n",
    "ORDER BY Total_Sales DESC;\n"
   ]
  },
  {
   "cell_type": "markdown",
   "id": "b4617123",
   "metadata": {},
   "source": [
    "2. Find the average rating given by Male vs Female customers"
   ]
  },
  {
   "cell_type": "code",
   "execution_count": null,
   "id": "7faa7eaf",
   "metadata": {},
   "outputs": [],
   "source": [
    "SELECT Gender, \n",
    "       ROUND(AVG(Rating), 2) AS Avg_Rating\n",
    "FROM SuperMarket\n",
    "GROUP BY Gender;"
   ]
  },
  {
   "cell_type": "markdown",
   "id": "004f94b4",
   "metadata": {},
   "source": [
    "3. Top 5 Product Lines by Total Sales"
   ]
  },
  {
   "cell_type": "code",
   "execution_count": null,
   "id": "26e51f99",
   "metadata": {},
   "outputs": [],
   "source": [
    "SELECT [Product line], \n",
    "       ROUND(SUM(Sales), 2) AS Total_Sales\n",
    "FROM SuperMarket\n",
    "GROUP BY [Product line]\n",
    "ORDER BY Total_Sales DESC\n",
    "LIMIT 5;"
   ]
  },
  {
   "cell_type": "markdown",
   "id": "0ab57d93",
   "metadata": {},
   "source": [
    "4. Total Quantity Sold by Each City"
   ]
  },
  {
   "cell_type": "code",
   "execution_count": null,
   "id": "fcdd3fe7",
   "metadata": {},
   "outputs": [],
   "source": [
    "SELECT City, \n",
    "       SUM(Quantity) AS Total_Quantity\n",
    "FROM SuperMarket\n",
    "GROUP BY City\n",
    "ORDER BY Total_Quantity DESC;"
   ]
  },
  {
   "cell_type": "markdown",
   "id": "7742c8fa",
   "metadata": {},
   "source": [
    "5. Branch-wise Average Gross Income"
   ]
  },
  {
   "cell_type": "code",
   "execution_count": null,
   "id": "89ad6dfb",
   "metadata": {},
   "outputs": [],
   "source": [
    "SELECT Branch, \n",
    "       ROUND(AVG([gross income]), 2) AS Avg_Gross_Income\n",
    "FROM SuperMarket\n",
    "GROUP BY Branch\n",
    "ORDER BY Avg_Gross_Income DESC;"
   ]
  }
 ],
 "metadata": {
  "kernelspec": {
   "display_name": "Python 3",
   "language": "python",
   "name": "python3"
  },
  "language_info": {
   "codemirror_mode": {
    "name": "ipython",
    "version": 3
   },
   "file_extension": ".py",
   "mimetype": "text/x-python",
   "name": "python",
   "nbconvert_exporter": "python",
   "pygments_lexer": "ipython3",
   "version": "3.13.3"
  }
 },
 "nbformat": 4,
 "nbformat_minor": 5
}
